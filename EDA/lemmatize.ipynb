{
 "cells": [
  {
   "cell_type": "code",
   "execution_count": 1,
   "id": "a0e38fa9",
   "metadata": {},
   "outputs": [],
   "source": [
    "import nltk\n",
    "import numpy as np\n",
    "import pandas as pd\n",
    "from ast import literal_eval\n",
    "from pymystem3 import Mystem\n",
    "from string import punctuation"
   ]
  },
  {
   "cell_type": "code",
   "execution_count": 2,
   "id": "798f90eb",
   "metadata": {},
   "outputs": [],
   "source": [
    "data_path = \"../parsed/parsed.csv\"\n",
    "save_path = \"../parsed/processed.csv\""
   ]
  },
  {
   "cell_type": "code",
   "execution_count": 3,
   "id": "cf2b54b6",
   "metadata": {},
   "outputs": [],
   "source": [
    "df = pd.read_csv(data_path, parse_dates=['dtm'], converters={\"tags\": literal_eval})"
   ]
  },
  {
   "cell_type": "code",
   "execution_count": 4,
   "id": "06b7af40",
   "metadata": {},
   "outputs": [
    {
     "name": "stderr",
     "output_type": "stream",
     "text": [
      "[nltk_data] Downloading package stopwords to /home/nikita/nltk_data...\n",
      "[nltk_data]   Package stopwords is already up-to-date!\n"
     ]
    }
   ],
   "source": [
    "nltk.download(\"stopwords\")\n",
    "mystem = Mystem() \n",
    "russian_stopwords = set(nltk.corpus.stopwords.words(\"russian\"))"
   ]
  },
  {
   "cell_type": "code",
   "execution_count": 5,
   "id": "3da6f0ec",
   "metadata": {},
   "outputs": [],
   "source": [
    "def process_text(text):\n",
    "    lemmas = mystem.lemmatize(text)\n",
    "    return \"\".join((l for l in lemmas if l not in russian_stopwords)) "
   ]
  },
  {
   "cell_type": "code",
   "execution_count": 6,
   "id": "fbde0d74",
   "metadata": {},
   "outputs": [],
   "source": [
    "df[\"text\"] = df.apply(lambda row: process_text(row[\"text\"]), axis=1)  # override text"
   ]
  },
  {
   "cell_type": "code",
   "execution_count": 7,
   "id": "86656b11",
   "metadata": {},
   "outputs": [],
   "source": [
    "df.to_csv(save_path, encoding='utf-8', index=False)"
   ]
  }
 ],
 "metadata": {
  "kernelspec": {
   "display_name": "venv",
   "language": "python",
   "name": "venv"
  },
  "language_info": {
   "codemirror_mode": {
    "name": "ipython",
    "version": 3
   },
   "file_extension": ".py",
   "mimetype": "text/x-python",
   "name": "python",
   "nbconvert_exporter": "python",
   "pygments_lexer": "ipython3",
   "version": "3.8.5"
  }
 },
 "nbformat": 4,
 "nbformat_minor": 5
}
